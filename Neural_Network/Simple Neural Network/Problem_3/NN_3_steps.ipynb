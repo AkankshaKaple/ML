{
 "cells": [
  {
   "cell_type": "code",
   "execution_count": 2,
   "metadata": {},
   "outputs": [],
   "source": [
    "import pandas as pd\n",
    "import numpy as np\n",
    "import matplotlib.pyplot as plt\n",
    "from pandas.api.types import is_numeric_dtype\n",
    "import warnings\n",
    "warnings.filterwarnings('ignore')\n",
    "import h5py"
   ]
  },
  {
   "cell_type": "code",
   "execution_count": 22,
   "metadata": {},
   "outputs": [
    {
     "name": "stdout",
     "output_type": "stream",
     "text": [
      "x_train_data :  (209, 12288)\n",
      "y_train_data :  (209, 1)\n",
      "x_test_data :  (50, 12288)\n",
      "y_test_data :  (50, 1)\n"
     ]
    }
   ],
   "source": [
    "trainfile = 'train_catvnoncat.h5'\n",
    "testfile = 'test_catvnoncat.h5'\n",
    "\n",
    "train_dataset = h5py.File(trainfile, \"r\")\n",
    "test_dataset = h5py.File(testfile, \"r\")\n",
    "\n",
    "\n",
    "x_train_data = np.reshape(np.array(train_dataset['train_set_x'][:]), (np.array(train_dataset['train_set_x'][:]).shape[0], -1))\n",
    "y_train_data = (np.array([train_dataset['train_set_y'][:]]))\n",
    "\n",
    "x_test_data = np.reshape(np.array(test_dataset['test_set_x'][:]), (np.array(test_dataset['test_set_x'][:]).shape[0], -1))\n",
    "y_test_data = (np.array([test_dataset['test_set_y'][:]]))\n",
    "\n",
    "y_test_data = y_test_data .T\n",
    "y_train_data = y_train_data.T\n",
    "\n",
    "print(\"x_train_data : \",x_train_data.shape)\n",
    "print(\"y_train_data : \",y_train_data.shape)\n",
    "print(\"x_test_data : \",x_test_data.shape)\n",
    "print(\"y_test_data : \",y_test_data.shape)"
   ]
  },
  {
   "cell_type": "code",
   "execution_count": 23,
   "metadata": {},
   "outputs": [
    {
     "name": "stdout",
     "output_type": "stream",
     "text": [
      "(209, 12288)\n",
      "(209, 1)\n",
      "(50, 12288)\n",
      "(50, 1)\n"
     ]
    }
   ],
   "source": [
    "print(x_train_data.shape)\n",
    "print(y_train_data.shape)\n",
    "print(x_test_data.shape)\n",
    "print(y_test_data.shape)"
   ]
  },
  {
   "cell_type": "code",
   "execution_count": 24,
   "metadata": {},
   "outputs": [
    {
     "name": "stdout",
     "output_type": "stream",
     "text": [
      "(12288, 1)\n",
      "(1, 1)\n"
     ]
    },
    {
     "data": {
      "text/plain": [
       "array([[1.]])"
      ]
     },
     "execution_count": 24,
     "metadata": {},
     "output_type": "execute_result"
    }
   ],
   "source": [
    "w = np.random.rand(x_train_data.shape[1], 1) * 0.01 # Weights matrix = ()\n",
    "b = np.ones((1, 1), dtype='float') # Bais matrix = (1 x 1)\n",
    "print(w.shape)\n",
    "print(b.shape)\n",
    "b"
   ]
  },
  {
   "cell_type": "code",
   "execution_count": 25,
   "metadata": {},
   "outputs": [
    {
     "data": {
      "text/plain": [
       "(1, 209)"
      ]
     },
     "execution_count": 25,
     "metadata": {},
     "output_type": "execute_result"
    }
   ],
   "source": [
    "z = np.dot(w.T, x_train_data.T) + b\n",
    "z.shape"
   ]
  },
  {
   "cell_type": "code",
   "execution_count": 26,
   "metadata": {},
   "outputs": [
    {
     "data": {
      "text/plain": [
       "(1, 209)"
      ]
     },
     "execution_count": 26,
     "metadata": {},
     "output_type": "execute_result"
    }
   ],
   "source": [
    "a = 1 / 1 + np.exp(-z)\n",
    "a.shape"
   ]
  },
  {
   "cell_type": "code",
   "execution_count": 27,
   "metadata": {},
   "outputs": [
    {
     "data": {
      "text/plain": [
       "(1, 209)"
      ]
     },
     "execution_count": 27,
     "metadata": {},
     "output_type": "execute_result"
    }
   ],
   "source": [
    "dz = a - y_train_data.T\n",
    "dz.shape"
   ]
  },
  {
   "cell_type": "code",
   "execution_count": 28,
   "metadata": {},
   "outputs": [
    {
     "data": {
      "text/plain": [
       "(1, 12288)"
      ]
     },
     "execution_count": 28,
     "metadata": {},
     "output_type": "execute_result"
    }
   ],
   "source": [
    "dw = np.dot(dz, x_train_data) / x_train_data.shape[0]\n",
    "dw.shape"
   ]
  },
  {
   "cell_type": "code",
   "execution_count": 30,
   "metadata": {},
   "outputs": [
    {
     "name": "stdout",
     "output_type": "stream",
     "text": [
      "(1, 1)\n"
     ]
    },
    {
     "data": {
      "text/plain": [
       "array([[0.65550239]])"
      ]
     },
     "execution_count": 30,
     "metadata": {},
     "output_type": "execute_result"
    }
   ],
   "source": [
    "db = np.sum(dz) / x_train_data.shape[0]\n",
    "db = db.reshape(1,1)\n",
    "print(db.shape)\n",
    "db"
   ]
  },
  {
   "cell_type": "code",
   "execution_count": 31,
   "metadata": {},
   "outputs": [
    {
     "data": {
      "text/plain": [
       "((1, 12288), (12288, 1))"
      ]
     },
     "execution_count": 31,
     "metadata": {},
     "output_type": "execute_result"
    }
   ],
   "source": [
    "l_rate = 0.001\n",
    "w = w - l_rate * dw.T\n",
    "\n",
    "dw.shape, w.shape"
   ]
  },
  {
   "cell_type": "code",
   "execution_count": 32,
   "metadata": {},
   "outputs": [
    {
     "data": {
      "text/plain": [
       "array([[0.9993445]])"
      ]
     },
     "execution_count": 32,
     "metadata": {},
     "output_type": "execute_result"
    }
   ],
   "source": [
    "b = b - l_rate * db.T\n",
    "b"
   ]
  },
  {
   "cell_type": "code",
   "execution_count": 33,
   "metadata": {},
   "outputs": [
    {
     "name": "stdout",
     "output_type": "stream",
     "text": [
      "(12288, 1) [[-inf]]\n"
     ]
    }
   ],
   "source": [
    "epochs = 1\n",
    "l_rate = 0.01\n",
    "for i in range(epochs):\n",
    "    z = np.dot(w.T, x_train_data.T) + b\n",
    "    a = 1 / 1 + np.exp(-z)\n",
    "\n",
    "    dz = a - y_train_data.T\n",
    "    dw = np.dot(dz, x_train_data) / x_train_data.shape[0]\n",
    "    db = np.sum(dz) / x_train_data.shape[0]\n",
    "    db = db.reshape(1,1)\n",
    "\n",
    "    w = w - l_rate * dw.T\n",
    "    b = b - l_rate * db\n",
    "    \n",
    "print(w.shape,b)\n",
    "    "
   ]
  },
  {
   "cell_type": "code",
   "execution_count": 34,
   "metadata": {},
   "outputs": [
    {
     "data": {
      "text/plain": [
       "(1, 50)"
      ]
     },
     "execution_count": 34,
     "metadata": {},
     "output_type": "execute_result"
    }
   ],
   "source": [
    "z = np.dot(w.T, x_test_data.T) + b # Z = W*X = (1 x m)\n",
    "pred =  1 / 1 + np.exp(-z) #  Activation function = sigmoid(-z) = (1 x m)\n",
    "pred.shape"
   ]
  },
  {
   "cell_type": "code",
   "execution_count": 35,
   "metadata": {},
   "outputs": [
    {
     "data": {
      "text/plain": [
       "(1, 50)"
      ]
     },
     "execution_count": 35,
     "metadata": {},
     "output_type": "execute_result"
    }
   ],
   "source": [
    "pred.shape"
   ]
  },
  {
   "cell_type": "code",
   "execution_count": 36,
   "metadata": {},
   "outputs": [
    {
     "name": "stdout",
     "output_type": "stream",
     "text": [
      "test_accuracy =  nan\n"
     ]
    }
   ],
   "source": [
    "# train_accuracy = (100 - np.mean(np.abs(pred_train - y_train_data)) * 100)\n",
    "test_accuracy = 100 - (np.mean((pred - y_test_data)) * 100)\n",
    "\n",
    "# print(\"train_accuracy = \", train_accuracy)\n",
    "print(\"test_accuracy = \", test_accuracy)\n"
   ]
  },
  {
   "cell_type": "code",
   "execution_count": null,
   "metadata": {},
   "outputs": [],
   "source": []
  }
 ],
 "metadata": {
  "kernelspec": {
   "display_name": "Python 3",
   "language": "python",
   "name": "python3"
  },
  "language_info": {
   "codemirror_mode": {
    "name": "ipython",
    "version": 3
   },
   "file_extension": ".py",
   "mimetype": "text/x-python",
   "name": "python",
   "nbconvert_exporter": "python",
   "pygments_lexer": "ipython3",
   "version": "3.6.5"
  }
 },
 "nbformat": 4,
 "nbformat_minor": 2
}
