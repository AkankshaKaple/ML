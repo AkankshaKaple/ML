{
 "cells": [
  {
   "cell_type": "code",
   "execution_count": 184,
   "metadata": {},
   "outputs": [],
   "source": [
    "import pandas as pd\n",
    "import numpy as np\n",
    "import matplotlib.pyplot as plt\n",
    "import warnings\n",
    "warnings.filterwarnings(\"ignore\")\n",
    "from sklearn.linear_model import LinearRegression\n",
    "from sklearn.cross_validation import train_test_split\n",
    "from sklearn.metrics import mean_absolute_error, r2_score, mean_squared_error, accuracy_score\n",
    "import seaborn as sns\n"
   ]
  },
  {
   "cell_type": "code",
   "execution_count": 185,
   "metadata": {},
   "outputs": [
    {
     "data": {
      "text/html": [
       "<div>\n",
       "<style scoped>\n",
       "    .dataframe tbody tr th:only-of-type {\n",
       "        vertical-align: middle;\n",
       "    }\n",
       "\n",
       "    .dataframe tbody tr th {\n",
       "        vertical-align: top;\n",
       "    }\n",
       "\n",
       "    .dataframe thead th {\n",
       "        text-align: right;\n",
       "    }\n",
       "</style>\n",
       "<table border=\"1\" class=\"dataframe\">\n",
       "  <thead>\n",
       "    <tr style=\"text-align: right;\">\n",
       "      <th></th>\n",
       "      <th>temp</th>\n",
       "      <th>cnt</th>\n",
       "    </tr>\n",
       "  </thead>\n",
       "  <tbody>\n",
       "    <tr>\n",
       "      <th>0</th>\n",
       "      <td>0.24</td>\n",
       "      <td>16</td>\n",
       "    </tr>\n",
       "    <tr>\n",
       "      <th>1</th>\n",
       "      <td>0.22</td>\n",
       "      <td>40</td>\n",
       "    </tr>\n",
       "    <tr>\n",
       "      <th>2</th>\n",
       "      <td>0.22</td>\n",
       "      <td>32</td>\n",
       "    </tr>\n",
       "    <tr>\n",
       "      <th>3</th>\n",
       "      <td>0.24</td>\n",
       "      <td>13</td>\n",
       "    </tr>\n",
       "    <tr>\n",
       "      <th>4</th>\n",
       "      <td>0.24</td>\n",
       "      <td>1</td>\n",
       "    </tr>\n",
       "  </tbody>\n",
       "</table>\n",
       "</div>"
      ],
      "text/plain": [
       "   temp  cnt\n",
       "0  0.24   16\n",
       "1  0.22   40\n",
       "2  0.22   32\n",
       "3  0.24   13\n",
       "4  0.24    1"
      ]
     },
     "execution_count": 185,
     "metadata": {},
     "output_type": "execute_result"
    }
   ],
   "source": [
    "dataset = pd.read_csv(\"bike_sharing.csv\")\n",
    "dataset = dataset.drop(columns=['instant', 'dteday', 'season', 'yr', 'mnth', 'hr', 'holiday', \n",
    "                                'weekday','workingday', 'weathersit','atemp', 'hum', 'windspeed', \n",
    "                                'casual', 'registered'], axis=1)\n",
    "dataset.head()"
   ]
  },
  {
   "cell_type": "code",
   "execution_count": 186,
   "metadata": {},
   "outputs": [
    {
     "data": {
      "text/plain": [
       "Index(['temp', 'cnt'], dtype='object')"
      ]
     },
     "execution_count": 186,
     "metadata": {},
     "output_type": "execute_result"
    }
   ],
   "source": [
    "# sns.distplot(dataset.cnt)\n",
    "dataset.columns"
   ]
  },
  {
   "cell_type": "code",
   "execution_count": 187,
   "metadata": {},
   "outputs": [
    {
     "name": "stdout",
     "output_type": "stream",
     "text": [
      "Skewness is -0.2794706917752847\n"
     ]
    },
    {
     "data": {
      "text/plain": [
       "<matplotlib.axes._subplots.AxesSubplot at 0x7f63cf2a32b0>"
      ]
     },
     "execution_count": 187,
     "metadata": {},
     "output_type": "execute_result"
    },
    {
     "data": {
      "image/png": "[encoded data removed]",
      "text/plain": [
       "<Figure size 432x288 with 1 Axes>"
      ]
     },
     "metadata": {},
     "output_type": "display_data"
    }
   ],
   "source": [
    "# now transforming feature variable\n",
    "# dataset = pd.read_csv(\"bike_sharing.csv\")\n",
    "dataset.cnt = (np.sqrt(np.sqrt(dataset.cnt)))\n",
    "print ('Skewness is', dataset.cnt.skew())\n",
    "sns.distplot(dataset.cnt)\n"
   ]
  },
  {
   "cell_type": "code",
   "execution_count": 188,
   "metadata": {},
   "outputs": [
    {
     "name": "stdout",
     "output_type": "stream",
     "text": [
      "Mean is 0.4969871684216586 , Median is  0.5 -0.00602088334827027\n"
     ]
    }
   ],
   "source": [
    "print(\"Mean is\", dataset['temp'].mean(), \", Median is \", dataset['temp'].median(), dataset['temp'].skew())"
   ]
  },
  {
   "cell_type": "code",
   "execution_count": 189,
   "metadata": {},
   "outputs": [
    {
     "data": {
      "text/plain": [
       "{'whiskers': [<matplotlib.lines.Line2D at 0x7f63cf1a6898>,\n",
       "  <matplotlib.lines.Line2D at 0x7f63cf1a6d30>],\n",
       " 'caps': [<matplotlib.lines.Line2D at 0x7f63cf1b0198>,\n",
       "  <matplotlib.lines.Line2D at 0x7f63cf1b05c0>],\n",
       " 'boxes': [<matplotlib.lines.Line2D at 0x7f63cf1a6748>],\n",
       " 'medians': [<matplotlib.lines.Line2D at 0x7f63cf1b09e8>],\n",
       " 'fliers': [<matplotlib.lines.Line2D at 0x7f63cf1b0e10>],\n",
       " 'means': []}"
      ]
     },
     "execution_count": 189,
     "metadata": {},
     "output_type": "execute_result"
    },
    {
     "data": {
      "image/png": "[encoded data removed]",
      "text/plain": [
       "<Figure size 432x288 with 1 Axes>"
      ]
     },
     "metadata": {},
     "output_type": "display_data"
    }
   ],
   "source": [
    "plt.boxplot(dataset.cnt)"
   ]
  },
  {
   "cell_type": "code",
   "execution_count": 190,
   "metadata": {},
   "outputs": [
    {
     "data": {
      "text/plain": [
       "{'whiskers': [<matplotlib.lines.Line2D at 0x7f63cf17d400>,\n",
       "  <matplotlib.lines.Line2D at 0x7f63cf17d898>],\n",
       " 'caps': [<matplotlib.lines.Line2D at 0x7f63cf17dcc0>,\n",
       "  <matplotlib.lines.Line2D at 0x7f63cf187128>],\n",
       " 'boxes': [<matplotlib.lines.Line2D at 0x7f63cf17d2b0>],\n",
       " 'medians': [<matplotlib.lines.Line2D at 0x7f63cf187550>],\n",
       " 'fliers': [<matplotlib.lines.Line2D at 0x7f63cf187978>],\n",
       " 'means': []}"
      ]
     },
     "execution_count": 190,
     "metadata": {},
     "output_type": "execute_result"
    },
    {
     "data": {
      "image/png": "[encoded data removed]",
      "text/plain": [
       "<Figure size 432x288 with 1 Axes>"
      ]
     },
     "metadata": {},
     "output_type": "display_data"
    }
   ],
   "source": [
    "plt.boxplot(dataset.temp)"
   ]
  },
  {
   "cell_type": "code",
   "execution_count": 191,
   "metadata": {},
   "outputs": [],
   "source": [
    "# Split the dataset into features and labels\n",
    "x_dataset = pd.DataFrame(dataset.temp)\n",
    "y_dataset = pd.DataFrame(dataset.cnt)\n",
    "\n",
    "# Split the data into train and test sets\n",
    "x_train_data, x_test_data, y_train_data, y_test_data = \\\n",
    "            train_test_split(x_dataset, y_dataset, test_size=0.25, random_state = 42)\n",
    "\n",
    "# Import linear regression class\n",
    "regression = LinearRegression()\n",
    "regression.fit(x_train_data, y_train_data)\n",
    "\n",
    "y_pred_test = regression.predict(x_test_data)\n",
    "y_pred_train = regression.predict(x_train_data)"
   ]
  },
  {
   "cell_type": "code",
   "execution_count": 192,
   "metadata": {},
   "outputs": [
    {
     "name": "stdout",
     "output_type": "stream",
     "text": [
      "0.9445557417420485\n",
      "Test EVS:  0.16755549434490713 Train EVS:  0.16934143762526388\n",
      "accuracy test:  [69.4679927]\n",
      "accuracy train:  [69.13265674]\n",
      "r_score_test :  0.16754223979873661\n",
      "r_score_train :  0.169341437625264\n"
     ]
    }
   ],
   "source": [
    "from sklearn.metrics import explained_variance_score\n",
    "from sklearn.metrics import mean_squared_error\n",
    "\n",
    "print(np.sqrt(mean_squared_error(y_test_data,y_pred_test)))\n",
    "\n",
    "print(\"Test EVS: \", explained_variance_score(y_test_data, y_pred_test), \n",
    "      \"Train EVS: \", explained_variance_score(y_train_data, y_pred_train))\n",
    "\n",
    "print(\"accuracy test: \", accuracy(np.array(y_test_data), y_pred_test))\n",
    "print(\"accuracy train: \", accuracy(np.array(y_train_data), y_pred_train))\n",
    "\n",
    "r_score_test = r2_score(y_test_data,y_pred_test) \n",
    "r_score_train = r2_score(y_train_data, y_pred_train) \n",
    "\n",
    "print(\"r_score_test : \",r_score_test)\n",
    "print(\"r_score_train : \",r_score_train)\n",
    "def accuracy( y_data_test, y_pred_test):\n",
    "\n",
    "    total_error = 0\n",
    "    for i in range(0, len(y_data_test)):\n",
    "        total_error += abs((y_pred_test[i] - y_data_test[i]) / y_data_test[i])\n",
    "    total_error = (total_error / len(y_data_test))\n",
    "    accuracy = 1 - total_error\n",
    "    return accuracy * 100\n"
   ]
  },
  {
   "cell_type": "code",
   "execution_count": 193,
   "metadata": {},
   "outputs": [
    {
     "name": "stdout",
     "output_type": "stream",
     "text": [
      "r_score_test :  16.75422397987366\n",
      "r_score_train :  16.9341437625264\n"
     ]
    }
   ],
   "source": [
    "r_score_test = r2_score(y_test_data,y_pred_test) * 100\n",
    "r_score_train = r2_score(y_train_data, y_pred_train) * 100\n",
    "print(\"r_score_test : \",r_score_test)\n",
    "\n",
    "print(\"r_score_train : \",r_score_train)"
   ]
  },
  {
   "cell_type": "code",
   "execution_count": 194,
   "metadata": {},
   "outputs": [
    {
     "data": {
      "text/html": [
       "<div>\n",
       "<style scoped>\n",
       "    .dataframe tbody tr th:only-of-type {\n",
       "        vertical-align: middle;\n",
       "    }\n",
       "\n",
       "    .dataframe tbody tr th {\n",
       "        vertical-align: top;\n",
       "    }\n",
       "\n",
       "    .dataframe thead th {\n",
       "        text-align: right;\n",
       "    }\n",
       "</style>\n",
       "<table border=\"1\" class=\"dataframe\">\n",
       "  <thead>\n",
       "    <tr style=\"text-align: right;\">\n",
       "      <th></th>\n",
       "      <th>temp</th>\n",
       "      <th>cnt</th>\n",
       "    </tr>\n",
       "  </thead>\n",
       "  <tbody>\n",
       "    <tr>\n",
       "      <th>count</th>\n",
       "      <td>17379.000000</td>\n",
       "      <td>17379.000000</td>\n",
       "    </tr>\n",
       "    <tr>\n",
       "      <th>mean</th>\n",
       "      <td>0.496987</td>\n",
       "      <td>3.304634</td>\n",
       "    </tr>\n",
       "    <tr>\n",
       "      <th>std</th>\n",
       "      <td>0.192556</td>\n",
       "      <td>1.046571</td>\n",
       "    </tr>\n",
       "    <tr>\n",
       "      <th>min</th>\n",
       "      <td>0.020000</td>\n",
       "      <td>1.000000</td>\n",
       "    </tr>\n",
       "    <tr>\n",
       "      <th>25%</th>\n",
       "      <td>0.340000</td>\n",
       "      <td>2.514867</td>\n",
       "    </tr>\n",
       "    <tr>\n",
       "      <th>50%</th>\n",
       "      <td>0.500000</td>\n",
       "      <td>3.452010</td>\n",
       "    </tr>\n",
       "    <tr>\n",
       "      <th>75%</th>\n",
       "      <td>0.660000</td>\n",
       "      <td>4.094271</td>\n",
       "    </tr>\n",
       "    <tr>\n",
       "      <th>max</th>\n",
       "      <td>1.000000</td>\n",
       "      <td>5.590796</td>\n",
       "    </tr>\n",
       "  </tbody>\n",
       "</table>\n",
       "</div>"
      ],
      "text/plain": [
       "               temp           cnt\n",
       "count  17379.000000  17379.000000\n",
       "mean       0.496987      3.304634\n",
       "std        0.192556      1.046571\n",
       "min        0.020000      1.000000\n",
       "25%        0.340000      2.514867\n",
       "50%        0.500000      3.452010\n",
       "75%        0.660000      4.094271\n",
       "max        1.000000      5.590796"
      ]
     },
     "execution_count": 194,
     "metadata": {},
     "output_type": "execute_result"
    }
   ],
   "source": [
    "dataset.describe()"
   ]
  },
  {
   "cell_type": "code",
   "execution_count": 195,
   "metadata": {},
   "outputs": [],
   "source": [
    "def graphs(x_train_data, y_train_data, x_test_data, y_test_data, y_pred_test, y_pred_train):\n",
    "    plt.scatter(x_train_data, y_train_data, color = \"blue\")\n",
    "    plt.plot(x_train_data, y_pred_train, color = \"red\")\n",
    "    plt.title(\"Regression Line for train data set\")\n",
    "    plt.xlabel(\"x_train_data\")\n",
    "    plt.ylabel(\"y_train_data\")\n",
    "    plt.legend\n",
    "    plt.show()\n",
    "    \n",
    "    plt.scatter(x_test_data, y_test_data, color = \"blue\")\n",
    "    plt.plot(x_test_data, y_pred_test, color = \"purple\")\n",
    "    plt.title(\"Regression Line for test data set\")\n",
    "    plt.xlabel(\"x_test_data\")\n",
    "    plt.ylabel(\"y_pred_test\")\n",
    "    plt.show()"
   ]
  },
  {
   "cell_type": "code",
   "execution_count": 196,
   "metadata": {},
   "outputs": [
    {
     "data": {
      "image/png": "[encoded data removed]",
      "text/plain": [
       "<Figure size 432x288 with 1 Axes>"
      ]
     },
     "metadata": {},
     "output_type": "display_data"
    },
    {
     "data": {
      "image/png": "[encoded data removed]",
      "text/plain": [
       "<Figure size 432x288 with 1 Axes>"
      ]
     },
     "metadata": {},
     "output_type": "display_data"
    }
   ],
   "source": [
    "graphs(x_train_data, y_train_data, x_test_data, y_test_data, y_pred_test, y_pred_train)"
   ]
  },
  {
   "cell_type": "code",
   "execution_count": 132,
   "metadata": {},
   "outputs": [],
   "source": [
    "# import numpy as np\n",
    "# from mpl_toolkits.mplot3d import Axes3D\n",
    "# import matplotlib.pyplot as plt\n",
    "# import random\n",
    "\n",
    "# def fun(x, y):\n",
    "#     return x**2 + y\n",
    "\n",
    "# fig = plt.figure()\n",
    "# ax = fig.add_subplot(111, projection='3d')\n",
    "# X = \n",
    "\n",
    "# ax.plot_surface(X, Y, Z)\n",
    "\n",
    "# ax.set_xlabel('X Label')\n",
    "# ax.set_ylabel('Y Label')\n",
    "# ax.set_zlabel('Z Label')"
   ]
  },
  {
   "cell_type": "code",
   "execution_count": null,
   "metadata": {},
   "outputs": [],
   "source": []
  }
 ],
 "metadata": {
  "kernelspec": {
   "display_name": "Python 3",
   "language": "python",
   "name": "python3"
  },
  "language_info": {
   "codemirror_mode": {
    "name": "ipython",
    "version": 3
   },
   "file_extension": ".py",
   "mimetype": "text/x-python",
   "name": "python",
   "nbconvert_exporter": "python",
   "pygments_lexer": "ipython3",
   "version": "3.6.5"
  }
 },
 "nbformat": 4,
 "nbformat_minor": 2
}
