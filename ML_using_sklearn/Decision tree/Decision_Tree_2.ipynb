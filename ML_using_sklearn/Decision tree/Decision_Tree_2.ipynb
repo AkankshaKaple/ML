{
 "cells": [
  {
   "cell_type": "code",
   "execution_count": 12,
   "metadata": {},
   "outputs": [],
   "source": [
    "import pandas as pd\n",
    "import numpy as np\n",
    "import matplotlib.pyplot as plt\n",
    "import warnings\n",
    "warnings.filterwarnings(\"ignore\")\n",
    "import seaborn as sns\n",
    "from sklearn.model_selection import train_test_split\n",
    "from sklearn import linear_model\n",
    "from sklearn.metrics import *\n",
    "import pandas as pd\n",
    "import numpy as np\n",
    "from scipy import stats\n",
    "import matplotlib.pyplot as plt\n",
    "from sklearn.preprocessing import PolynomialFeatures\n",
    "from sklearn.linear_model import LinearRegression"
   ]
  },
  {
   "cell_type": "code",
   "execution_count": 13,
   "metadata": {},
   "outputs": [
    {
     "data": {
      "text/html": [
       "<div>\n",
       "<style scoped>\n",
       "    .dataframe tbody tr th:only-of-type {\n",
       "        vertical-align: middle;\n",
       "    }\n",
       "\n",
       "    .dataframe tbody tr th {\n",
       "        vertical-align: top;\n",
       "    }\n",
       "\n",
       "    .dataframe thead th {\n",
       "        text-align: right;\n",
       "    }\n",
       "</style>\n",
       "<table border=\"1\" class=\"dataframe\">\n",
       "  <thead>\n",
       "    <tr style=\"text-align: right;\">\n",
       "      <th></th>\n",
       "      <th>instant</th>\n",
       "      <th>season</th>\n",
       "      <th>yr</th>\n",
       "      <th>mnth</th>\n",
       "      <th>hr</th>\n",
       "      <th>holiday</th>\n",
       "      <th>weekday</th>\n",
       "      <th>workingday</th>\n",
       "      <th>weathersit</th>\n",
       "      <th>temp</th>\n",
       "      <th>atemp</th>\n",
       "      <th>hum</th>\n",
       "      <th>windspeed</th>\n",
       "      <th>casual</th>\n",
       "      <th>registered</th>\n",
       "      <th>cnt</th>\n",
       "    </tr>\n",
       "  </thead>\n",
       "  <tbody>\n",
       "    <tr>\n",
       "      <th>0</th>\n",
       "      <td>1</td>\n",
       "      <td>1</td>\n",
       "      <td>0</td>\n",
       "      <td>1</td>\n",
       "      <td>0</td>\n",
       "      <td>0</td>\n",
       "      <td>6</td>\n",
       "      <td>0</td>\n",
       "      <td>1</td>\n",
       "      <td>0.24</td>\n",
       "      <td>0.2879</td>\n",
       "      <td>0.81</td>\n",
       "      <td>0.0</td>\n",
       "      <td>3</td>\n",
       "      <td>13</td>\n",
       "      <td>16</td>\n",
       "    </tr>\n",
       "    <tr>\n",
       "      <th>1</th>\n",
       "      <td>2</td>\n",
       "      <td>1</td>\n",
       "      <td>0</td>\n",
       "      <td>1</td>\n",
       "      <td>1</td>\n",
       "      <td>0</td>\n",
       "      <td>6</td>\n",
       "      <td>0</td>\n",
       "      <td>1</td>\n",
       "      <td>0.22</td>\n",
       "      <td>0.2727</td>\n",
       "      <td>0.80</td>\n",
       "      <td>0.0</td>\n",
       "      <td>8</td>\n",
       "      <td>32</td>\n",
       "      <td>40</td>\n",
       "    </tr>\n",
       "    <tr>\n",
       "      <th>2</th>\n",
       "      <td>3</td>\n",
       "      <td>1</td>\n",
       "      <td>0</td>\n",
       "      <td>1</td>\n",
       "      <td>2</td>\n",
       "      <td>0</td>\n",
       "      <td>6</td>\n",
       "      <td>0</td>\n",
       "      <td>1</td>\n",
       "      <td>0.22</td>\n",
       "      <td>0.2727</td>\n",
       "      <td>0.80</td>\n",
       "      <td>0.0</td>\n",
       "      <td>5</td>\n",
       "      <td>27</td>\n",
       "      <td>32</td>\n",
       "    </tr>\n",
       "    <tr>\n",
       "      <th>3</th>\n",
       "      <td>4</td>\n",
       "      <td>1</td>\n",
       "      <td>0</td>\n",
       "      <td>1</td>\n",
       "      <td>3</td>\n",
       "      <td>0</td>\n",
       "      <td>6</td>\n",
       "      <td>0</td>\n",
       "      <td>1</td>\n",
       "      <td>0.24</td>\n",
       "      <td>0.2879</td>\n",
       "      <td>0.75</td>\n",
       "      <td>0.0</td>\n",
       "      <td>3</td>\n",
       "      <td>10</td>\n",
       "      <td>13</td>\n",
       "    </tr>\n",
       "    <tr>\n",
       "      <th>4</th>\n",
       "      <td>5</td>\n",
       "      <td>1</td>\n",
       "      <td>0</td>\n",
       "      <td>1</td>\n",
       "      <td>4</td>\n",
       "      <td>0</td>\n",
       "      <td>6</td>\n",
       "      <td>0</td>\n",
       "      <td>1</td>\n",
       "      <td>0.24</td>\n",
       "      <td>0.2879</td>\n",
       "      <td>0.75</td>\n",
       "      <td>0.0</td>\n",
       "      <td>0</td>\n",
       "      <td>1</td>\n",
       "      <td>1</td>\n",
       "    </tr>\n",
       "  </tbody>\n",
       "</table>\n",
       "</div>"
      ],
      "text/plain": [
       "   instant  season  yr  mnth  hr  holiday  weekday  workingday  weathersit  \\\n",
       "0        1       1   0     1   0        0        6           0           1   \n",
       "1        2       1   0     1   1        0        6           0           1   \n",
       "2        3       1   0     1   2        0        6           0           1   \n",
       "3        4       1   0     1   3        0        6           0           1   \n",
       "4        5       1   0     1   4        0        6           0           1   \n",
       "\n",
       "   temp   atemp   hum  windspeed  casual  registered  cnt  \n",
       "0  0.24  0.2879  0.81        0.0       3          13   16  \n",
       "1  0.22  0.2727  0.80        0.0       8          32   40  \n",
       "2  0.22  0.2727  0.80        0.0       5          27   32  \n",
       "3  0.24  0.2879  0.75        0.0       3          10   13  \n",
       "4  0.24  0.2879  0.75        0.0       0           1    1  "
      ]
     },
     "execution_count": 13,
     "metadata": {},
     "output_type": "execute_result"
    }
   ],
   "source": [
    "dataset = pd.read_csv(\"bike_sharing.csv\")\n",
    "dataset = dataset.drop(columns=\"dteday\")\n",
    "dataset.head()"
   ]
  },
  {
   "cell_type": "code",
   "execution_count": 14,
   "metadata": {},
   "outputs": [
    {
     "data": {
      "image/png": "[encoded data removed]",
      "text/plain": [
       "<Figure size 432x288 with 2 Axes>"
      ]
     },
     "metadata": {},
     "output_type": "display_data"
    }
   ],
   "source": [
    "# now transforming feature variable\n",
    "from scipy import stats\n",
    "x_normalized_data = stats.boxcox(dataset[\"cnt\"])\n",
    "fig, ax=plt.subplots(1,2)\n",
    "sns.distplot(dataset[\"cnt\"], ax=ax[0])\n",
    "ax[0].set_title(\"Original Data\")\n",
    "sns.distplot(x_normalized_data[0], ax=ax[1])\n",
    "ax[1].set_title(\"Normalized data\")\n",
    "x_normalized_data = x_normalized_data[0].reshape(len(x_normalized_data[0]), 1)\n",
    "dataset.cnt = x_normalized_data"
   ]
  },
  {
   "cell_type": "code",
   "execution_count": 15,
   "metadata": {},
   "outputs": [],
   "source": [
    "x_data_set = np.array(dataset.drop(columns=['instant', 'season', 'yr', 'mnth', 'hr', 'holiday', 'weekday',\n",
    "       'workingday', 'weathersit', 'temp', 'atemp', 'hum', 'windspeed',\n",
    "       'casual', 'registered'], axis=0))\n",
    "y_data_set = np.array(pd.DataFrame(dataset.cnt))"
   ]
  },
  {
   "cell_type": "code",
   "execution_count": 16,
   "metadata": {},
   "outputs": [
    {
     "data": {
      "text/plain": [
       "DecisionTreeRegressor(criterion='mse', max_depth=None, max_features=None,\n",
       "           max_leaf_nodes=None, min_impurity_decrease=0.0,\n",
       "           min_impurity_split=None, min_samples_leaf=1,\n",
       "           min_samples_split=2, min_weight_fraction_leaf=0.0,\n",
       "           presort=False, random_state=0, splitter='best')"
      ]
     },
     "execution_count": 16,
     "metadata": {},
     "output_type": "execute_result"
    }
   ],
   "source": [
    "from sklearn.tree import DecisionTreeRegressor\n",
    "regressor = DecisionTreeRegressor(random_state = 0)\n",
    "regressor.fit(x_data_set, y_data_set)"
   ]
  },
  {
   "cell_type": "code",
   "execution_count": 17,
   "metadata": {},
   "outputs": [
    {
     "data": {
      "image/png": "[encoded data removed]",
      "text/plain": [
       "<Figure size 432x288 with 1 Axes>"
      ]
     },
     "metadata": {},
     "output_type": "display_data"
    }
   ],
   "source": [
    "X_grid = np.arange(min(x_data_set), max(x_data_set), 0.1)\n",
    "X_grid = X_grid.reshape(len(X_grid), 1)\n",
    "plt.scatter(x_data_set, y_data_set, color ='red')\n",
    "plt.plot(X_grid, regressor.predict(X_grid), color ='green')\n",
    "plt.title('Truth or Bluff (Decision Tree)')\n",
    "plt.xlabel('Position level')\n",
    "plt.ylabel('Salary')\n",
    "plt.show()\n",
    "\n"
   ]
  },
  {
   "cell_type": "code",
   "execution_count": 18,
   "metadata": {},
   "outputs": [
    {
     "data": {
      "text/plain": [
       "array([ 0.        ,  0.        ,  0.        ,  0.        ,  0.77198372,\n",
       "        0.77198372,  0.77198372,  0.77198372,  0.77198372,  0.77198372,\n",
       "        0.77198372,  1.30540052,  1.30540052,  1.30540052,  1.30540052,\n",
       "        1.30540052,  1.72599168,  1.72599168,  1.72599168,  1.72599168,\n",
       "        2.07865132,  2.07865132,  2.07865132,  2.38518158,  2.38518158,\n",
       "        2.38518158,  2.65800446,  2.65800446,  2.90494295,  2.90494295,\n",
       "        2.90494295,  3.1312768 ,  3.1312768 ,  3.34075538,  3.34075538,\n",
       "        3.5361474 ,  3.5361474 ,  3.7195617 ,  3.7195617 ,  3.89264556,\n",
       "        4.05671285,  4.05671285,  4.21283014,  4.36187639,  4.36187639,\n",
       "        4.50458544,  4.64157697,  4.64157697,  4.77337954,  4.90044802,\n",
       "        5.02317696,  5.14191106,  5.25695344,  5.25695344,  5.3685722 ,\n",
       "        5.47700573,  5.5824671 ,  5.68514753,  5.78521943,  5.88283878,\n",
       "        5.97814725,  6.07127392,  6.16233676,  6.33869485,  6.42418109,\n",
       "        6.50798729,  6.5901918 ,  6.67086729,  6.82789695,  6.90437281,\n",
       "        6.97956385,  7.12629399,  7.19792661,  7.26846195,  7.40639903,\n",
       "        7.47387434,  7.60600755,  7.67072771,  7.79761893,  7.92128654,\n",
       "        7.98197246,  8.1011605 ,  8.21757437,  8.27478915,  8.38732349,\n",
       "        8.49744104,  8.60526464,  8.71090748,  8.81447415,  8.91606147,\n",
       "        9.01575925,  9.11365101,  9.20981456,  9.30432248,  9.39724265,\n",
       "        9.48863861,  9.57856995,  9.71084233,  9.79734982,  9.88257461,\n",
       "       10.00810546, 10.09031687, 10.21151907, 10.29096448, 10.40818502,\n",
       "       10.485081  , 10.59862463, 10.71009339, 10.78329796, 10.89150589,\n",
       "       10.9978661 , 11.10245372, 11.20533915, 11.30658844, 11.40626363,\n",
       "       11.50442314, 11.60112199, 11.6964121 , 11.79034252, 11.91354781,\n",
       "       12.00448175, 12.09420132, 12.21200521, 12.29903889, 12.41339042,\n",
       "       12.49792629, 12.60906233, 12.69126835, 12.79940093, 12.90590409,\n",
       "       13.01083646, 13.08853831, 13.19085314, 13.29174221, 13.39125305,\n",
       "       13.48943071, 13.61034292, 13.70567398, 13.79980321, 13.89276691,\n",
       "       14.00738505, 14.09785035, 14.20944654, 14.29757117, 14.40633269,\n",
       "       14.49225911, 14.59835545, 14.70303856, 14.8063535 , 14.90834309,\n",
       "       15.00904807, 15.1085072 , 15.20675744, 15.30383401, 15.39977055,\n",
       "       15.49459917, 15.60697422, 15.69947165, 15.79095485, 15.89943344,\n",
       "       16.00653401, 16.09476216, 16.19944387, 16.30286131, 16.40505111,\n",
       "       16.50604822, 16.60588605, 16.70459652, 16.80221021, 16.89875638,\n",
       "       16.99426306, 17.10440955, 17.19775482, 17.30544852, 17.39674796,\n",
       "       17.50211799, 17.60628658, 17.69464265, 17.79666615, 17.89757849,\n",
       "       17.99740873, 18.09618476, 18.19393332, 18.30442076, 18.40005284,\n",
       "       18.49473488, 18.60180869, 18.69453029, 18.79941963, 18.90318762,\n",
       "       19.00586308, 19.09482965, 19.19553025, 19.29521489, 19.39390822,\n",
       "       19.50378278, 19.60044719, 19.6961915 , 19.80283024, 19.89668836,\n",
       "       20.00125567, 20.10476543, 20.19590712, 20.29748871, 20.39808442,\n",
       "       20.4977173 , 20.5964095 , 20.70499024, 20.80176587, 20.89766489,\n",
       "       21.00321446, 21.09732485, 21.20093188, 21.2933329 , 21.39508235,\n",
       "       21.49588629, 21.61563267, 21.70459011, 21.80259413, 21.89973481,\n",
       "       21.99603046, 22.0914988 , 22.19557885, 22.2987006 , 22.40088528,\n",
       "       22.49298456, 22.60252478, 22.67496984, 22.80065314, 22.91613808,\n",
       "       22.98663409, 23.09157804, 23.20420563, 23.29010667, 23.41778592,\n",
       "       23.47689717])"
      ]
     },
     "execution_count": 18,
     "metadata": {},
     "output_type": "execute_result"
    }
   ],
   "source": [
    "pred = regressor.predict(X_grid)\n",
    "pred"
   ]
  },
  {
   "cell_type": "code",
   "execution_count": null,
   "metadata": {},
   "outputs": [],
   "source": []
  }
 ],
 "metadata": {
  "kernelspec": {
   "display_name": "Python 3",
   "language": "python",
   "name": "python3"
  },
  "language_info": {
   "codemirror_mode": {
    "name": "ipython",
    "version": 3
   },
   "file_extension": ".py",
   "mimetype": "text/x-python",
   "name": "python",
   "nbconvert_exporter": "python",
   "pygments_lexer": "ipython3",
   "version": "3.6.5"
  }
 },
 "nbformat": 4,
 "nbformat_minor": 2
}
