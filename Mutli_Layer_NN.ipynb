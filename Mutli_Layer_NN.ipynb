{
 "cells": [
  {
   "cell_type": "code",
   "execution_count": 2,
   "metadata": {},
   "outputs": [
    {
     "name": "stdout",
     "output_type": "stream",
     "text": [
      "x_train_data :  (209, 12288)\n",
      "y_train_data :  (1, 209)\n",
      "x_test_data :  (50, 12288)\n",
      "y_test_data :  (1, 50)\n"
     ]
    },
    {
     "name": "stderr",
     "output_type": "stream",
     "text": [
      "/home/admin1/anaconda3/lib/python3.6/site-packages/h5py/__init__.py:36: FutureWarning: Conversion of the second argument of issubdtype from `float` to `np.floating` is deprecated. In future, it will be treated as `np.float64 == np.dtype(float).type`.\n",
      "  from ._conv import register_converters as _register_converters\n"
     ]
    }
   ],
   "source": [
    "import numpy as np\n",
    "import pandas as pd\n",
    "import matplotlib as plt\n",
    "from pandas.api.types import is_numeric_dtype\n",
    "import seaborn as sns\n",
    "import h5py\n",
    "\n",
    "\n",
    "trainfile = 'train_catvnoncat.h5'\n",
    "testfile = 'test_catvnoncat.h5'\n",
    "\n",
    "train_dataset = h5py.File(trainfile, \"r\")\n",
    "test_dataset = h5py.File(testfile, \"r\")\n",
    "\n",
    "\n",
    "x_train_data = np.reshape(np.array(train_dataset['train_set_x'][:]), (np.array(train_dataset['train_set_x'][:]).shape[0], -1))\n",
    "y_train_data = (np.array([train_dataset['train_set_y'][:]]))\n",
    "\n",
    "x_test_data = np.reshape(np.array(test_dataset['test_set_x'][:]), (np.array(test_dataset['test_set_x'][:]).shape[0], -1))\n",
    "y_test_data = (np.array([test_dataset['test_set_y'][:]]))\n",
    "\n",
    "print(\"x_train_data : \",x_train_data.shape)\n",
    "print(\"y_train_data : \",y_train_data.shape)\n",
    "print(\"x_test_data : \",x_test_data.shape)\n",
    "print(\"y_test_data : \",y_test_data.shape)\n",
    "\n",
    "x_train_data = x_train_data / 255.\n",
    "x_test_data = x_test_data / 255."
   ]
  },
  {
   "cell_type": "code",
   "execution_count": null,
   "metadata": {},
   "outputs": [],
   "source": []
  }
 ],
 "metadata": {
  "kernelspec": {
   "display_name": "Python 3",
   "language": "python",
   "name": "python3"
  },
  "language_info": {
   "codemirror_mode": {
    "name": "ipython",
    "version": 3
   },
   "file_extension": ".py",
   "mimetype": "text/x-python",
   "name": "python",
   "nbconvert_exporter": "python",
   "pygments_lexer": "ipython3",
   "version": "3.6.5"
  }
 },
 "nbformat": 4,
 "nbformat_minor": 2
}
